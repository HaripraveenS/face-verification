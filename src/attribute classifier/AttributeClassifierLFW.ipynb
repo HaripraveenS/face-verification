{
 "cells": [
  {
   "cell_type": "markdown",
   "metadata": {
    "id": "VGnqrLKiwB4_"
   },
   "source": [
    "# Import Libraries"
   ]
  },
  {
   "cell_type": "code",
   "execution_count": 1,
   "metadata": {
    "id": "-5Xomw1pwMQZ"
   },
   "outputs": [],
   "source": [
    "from utilities import *"
   ]
  },
  {
   "cell_type": "markdown",
   "metadata": {},
   "source": [
    "# Initializations"
   ]
  },
  {
   "cell_type": "code",
   "execution_count": 2,
   "metadata": {},
   "outputs": [],
   "source": [
    "initialize_lfw()"
   ]
  },
  {
   "cell_type": "markdown",
   "metadata": {},
   "source": [
    "# Train"
   ]
  },
  {
   "cell_type": "code",
   "execution_count": 3,
   "metadata": {},
   "outputs": [
    {
     "name": "stderr",
     "output_type": "stream",
     "text": [
      "100%|██████████| 20/20 [2:49:10<00:00, 507.53s/it]  \n"
     ]
    }
   ],
   "source": [
    "learn_SVMs()"
   ]
  },
  {
   "cell_type": "markdown",
   "metadata": {},
   "source": [
    "# Test"
   ]
  },
  {
   "cell_type": "code",
   "execution_count": 3,
   "metadata": {},
   "outputs": [
    {
     "name": "stdout",
     "output_type": "stream",
     "text": [
      "----------For attribute Male----------\n",
      "              precision    recall  f1-score   support\n",
      "\n",
      "          -1       0.68      0.28      0.40       861\n",
      "           1       0.83      0.96      0.89      3044\n",
      "\n",
      "    accuracy                           0.81      3905\n",
      "   macro avg       0.75      0.62      0.64      3905\n",
      "weighted avg       0.79      0.81      0.78      3905\n",
      "\n",
      "----------For attribute Asian----------\n",
      "              precision    recall  f1-score   support\n",
      "\n",
      "          -1       0.92      1.00      0.96      3608\n",
      "           1       0.00      0.00      0.00       297\n",
      "\n",
      "    accuracy                           0.92      3905\n",
      "   macro avg       0.46      0.50      0.48      3905\n",
      "weighted avg       0.85      0.92      0.89      3905\n",
      "\n"
     ]
    },
    {
     "name": "stderr",
     "output_type": "stream",
     "text": [
      "/home2/dhawals1939/miniconda3/lib/python3.8/site-packages/sklearn/metrics/_classification.py:1245: UndefinedMetricWarning: Precision and F-score are ill-defined and being set to 0.0 in labels with no predicted samples. Use `zero_division` parameter to control this behavior.\n",
      "  _warn_prf(average, modifier, msg_start, len(result))\n",
      "/home2/dhawals1939/miniconda3/lib/python3.8/site-packages/sklearn/metrics/_classification.py:1245: UndefinedMetricWarning: Precision and F-score are ill-defined and being set to 0.0 in labels with no predicted samples. Use `zero_division` parameter to control this behavior.\n",
      "  _warn_prf(average, modifier, msg_start, len(result))\n",
      "/home2/dhawals1939/miniconda3/lib/python3.8/site-packages/sklearn/metrics/_classification.py:1245: UndefinedMetricWarning: Precision and F-score are ill-defined and being set to 0.0 in labels with no predicted samples. Use `zero_division` parameter to control this behavior.\n",
      "  _warn_prf(average, modifier, msg_start, len(result))\n"
     ]
    },
    {
     "name": "stdout",
     "output_type": "stream",
     "text": [
      "----------For attribute White----------\n",
      "              precision    recall  f1-score   support\n",
      "\n",
      "          -1       0.58      0.03      0.06       974\n",
      "           1       0.75      0.99      0.86      2931\n",
      "\n",
      "    accuracy                           0.75      3905\n",
      "   macro avg       0.67      0.51      0.46      3905\n",
      "weighted avg       0.71      0.75      0.66      3905\n",
      "\n",
      "----------For attribute Black----------\n",
      "              precision    recall  f1-score   support\n",
      "\n",
      "          -1       0.96      1.00      0.98      3735\n",
      "           1       0.00      0.00      0.00       170\n",
      "\n",
      "    accuracy                           0.96      3905\n",
      "   macro avg       0.48      0.50      0.49      3905\n",
      "weighted avg       0.91      0.96      0.94      3905\n",
      "\n"
     ]
    },
    {
     "name": "stderr",
     "output_type": "stream",
     "text": [
      "/home2/dhawals1939/miniconda3/lib/python3.8/site-packages/sklearn/metrics/_classification.py:1245: UndefinedMetricWarning: Precision and F-score are ill-defined and being set to 0.0 in labels with no predicted samples. Use `zero_division` parameter to control this behavior.\n",
      "  _warn_prf(average, modifier, msg_start, len(result))\n",
      "/home2/dhawals1939/miniconda3/lib/python3.8/site-packages/sklearn/metrics/_classification.py:1245: UndefinedMetricWarning: Precision and F-score are ill-defined and being set to 0.0 in labels with no predicted samples. Use `zero_division` parameter to control this behavior.\n",
      "  _warn_prf(average, modifier, msg_start, len(result))\n",
      "/home2/dhawals1939/miniconda3/lib/python3.8/site-packages/sklearn/metrics/_classification.py:1245: UndefinedMetricWarning: Precision and F-score are ill-defined and being set to 0.0 in labels with no predicted samples. Use `zero_division` parameter to control this behavior.\n",
      "  _warn_prf(average, modifier, msg_start, len(result))\n"
     ]
    },
    {
     "name": "stdout",
     "output_type": "stream",
     "text": [
      "----------For attribute Bald----------\n",
      "              precision    recall  f1-score   support\n",
      "\n",
      "          -1       0.91      0.99      0.95      3505\n",
      "           1       0.52      0.12      0.20       400\n",
      "\n",
      "    accuracy                           0.90      3905\n",
      "   macro avg       0.71      0.55      0.57      3905\n",
      "weighted avg       0.87      0.90      0.87      3905\n",
      "\n",
      "----------For attribute Chubby----------\n",
      "              precision    recall  f1-score   support\n",
      "\n",
      "          -1       0.70      0.91      0.79      2516\n",
      "           1       0.66      0.31      0.42      1389\n",
      "\n",
      "    accuracy                           0.70      3905\n",
      "   macro avg       0.68      0.61      0.61      3905\n",
      "weighted avg       0.69      0.70      0.66      3905\n",
      "\n",
      "----------For attribute Bushy Eyebrows----------\n",
      "              precision    recall  f1-score   support\n",
      "\n",
      "          -1       0.65      0.59      0.62      1846\n",
      "           1       0.66      0.71      0.69      2059\n",
      "\n",
      "    accuracy                           0.66      3905\n",
      "   macro avg       0.65      0.65      0.65      3905\n",
      "weighted avg       0.66      0.66      0.65      3905\n",
      "\n",
      "----------For attribute Arched Eyebrows----------\n",
      "              precision    recall  f1-score   support\n",
      "\n",
      "          -1       0.80      0.94      0.86      2918\n",
      "           1       0.61      0.30      0.40       987\n",
      "\n",
      "    accuracy                           0.77      3905\n",
      "   macro avg       0.70      0.62      0.63      3905\n",
      "weighted avg       0.75      0.77      0.74      3905\n",
      "\n",
      "----------For attribute Big Nose----------\n",
      "              precision    recall  f1-score   support\n",
      "\n",
      "          -1       0.72      0.28      0.41      1253\n",
      "           1       0.74      0.95      0.83      2652\n",
      "\n",
      "    accuracy                           0.73      3905\n",
      "   macro avg       0.73      0.62      0.62      3905\n",
      "weighted avg       0.73      0.73      0.69      3905\n",
      "\n",
      "----------For attribute Pointy Nose----------\n",
      "              precision    recall  f1-score   support\n",
      "\n",
      "          -1       0.66      0.26      0.38      1224\n",
      "           1       0.74      0.94      0.82      2681\n",
      "\n",
      "    accuracy                           0.73      3905\n",
      "   macro avg       0.70      0.60      0.60      3905\n",
      "weighted avg       0.71      0.73      0.68      3905\n",
      "\n",
      "----------For attribute Round Jaw----------\n",
      "              precision    recall  f1-score   support\n",
      "\n",
      "          -1       0.00      0.00      0.00       519\n",
      "           1       0.87      1.00      0.93      3386\n",
      "\n",
      "    accuracy                           0.87      3905\n",
      "   macro avg       0.43      0.50      0.46      3905\n",
      "weighted avg       0.75      0.87      0.81      3905\n",
      "\n"
     ]
    },
    {
     "name": "stderr",
     "output_type": "stream",
     "text": [
      "/home2/dhawals1939/miniconda3/lib/python3.8/site-packages/sklearn/metrics/_classification.py:1245: UndefinedMetricWarning: Precision and F-score are ill-defined and being set to 0.0 in labels with no predicted samples. Use `zero_division` parameter to control this behavior.\n",
      "  _warn_prf(average, modifier, msg_start, len(result))\n",
      "/home2/dhawals1939/miniconda3/lib/python3.8/site-packages/sklearn/metrics/_classification.py:1245: UndefinedMetricWarning: Precision and F-score are ill-defined and being set to 0.0 in labels with no predicted samples. Use `zero_division` parameter to control this behavior.\n",
      "  _warn_prf(average, modifier, msg_start, len(result))\n",
      "/home2/dhawals1939/miniconda3/lib/python3.8/site-packages/sklearn/metrics/_classification.py:1245: UndefinedMetricWarning: Precision and F-score are ill-defined and being set to 0.0 in labels with no predicted samples. Use `zero_division` parameter to control this behavior.\n",
      "  _warn_prf(average, modifier, msg_start, len(result))\n"
     ]
    },
    {
     "name": "stdout",
     "output_type": "stream",
     "text": [
      "----------For attribute Oval Face----------\n",
      "              precision    recall  f1-score   support\n",
      "\n",
      "          -1       0.64      0.58      0.61      1896\n",
      "           1       0.63      0.68      0.66      2009\n",
      "\n",
      "    accuracy                           0.63      3905\n",
      "   macro avg       0.63      0.63      0.63      3905\n",
      "weighted avg       0.63      0.63      0.63      3905\n",
      "\n",
      "----------For attribute Square Face----------\n",
      "              precision    recall  f1-score   support\n",
      "\n",
      "          -1       0.95      1.00      0.97      3699\n",
      "           1       0.00      0.00      0.00       206\n",
      "\n",
      "    accuracy                           0.95      3905\n",
      "   macro avg       0.47      0.50      0.49      3905\n",
      "weighted avg       0.90      0.95      0.92      3905\n",
      "\n"
     ]
    },
    {
     "name": "stderr",
     "output_type": "stream",
     "text": [
      "/home2/dhawals1939/miniconda3/lib/python3.8/site-packages/sklearn/metrics/_classification.py:1245: UndefinedMetricWarning: Precision and F-score are ill-defined and being set to 0.0 in labels with no predicted samples. Use `zero_division` parameter to control this behavior.\n",
      "  _warn_prf(average, modifier, msg_start, len(result))\n",
      "/home2/dhawals1939/miniconda3/lib/python3.8/site-packages/sklearn/metrics/_classification.py:1245: UndefinedMetricWarning: Precision and F-score are ill-defined and being set to 0.0 in labels with no predicted samples. Use `zero_division` parameter to control this behavior.\n",
      "  _warn_prf(average, modifier, msg_start, len(result))\n",
      "/home2/dhawals1939/miniconda3/lib/python3.8/site-packages/sklearn/metrics/_classification.py:1245: UndefinedMetricWarning: Precision and F-score are ill-defined and being set to 0.0 in labels with no predicted samples. Use `zero_division` parameter to control this behavior.\n",
      "  _warn_prf(average, modifier, msg_start, len(result))\n"
     ]
    },
    {
     "name": "stdout",
     "output_type": "stream",
     "text": [
      "----------For attribute Round Face----------\n",
      "              precision    recall  f1-score   support\n",
      "\n",
      "          -1       0.92      1.00      0.96      3586\n",
      "           1       0.00      0.00      0.00       319\n",
      "\n",
      "    accuracy                           0.92      3905\n",
      "   macro avg       0.46      0.50      0.48      3905\n",
      "weighted avg       0.84      0.92      0.88      3905\n",
      "\n"
     ]
    },
    {
     "name": "stderr",
     "output_type": "stream",
     "text": [
      "/home2/dhawals1939/miniconda3/lib/python3.8/site-packages/sklearn/metrics/_classification.py:1245: UndefinedMetricWarning: Precision and F-score are ill-defined and being set to 0.0 in labels with no predicted samples. Use `zero_division` parameter to control this behavior.\n",
      "  _warn_prf(average, modifier, msg_start, len(result))\n",
      "/home2/dhawals1939/miniconda3/lib/python3.8/site-packages/sklearn/metrics/_classification.py:1245: UndefinedMetricWarning: Precision and F-score are ill-defined and being set to 0.0 in labels with no predicted samples. Use `zero_division` parameter to control this behavior.\n",
      "  _warn_prf(average, modifier, msg_start, len(result))\n",
      "/home2/dhawals1939/miniconda3/lib/python3.8/site-packages/sklearn/metrics/_classification.py:1245: UndefinedMetricWarning: Precision and F-score are ill-defined and being set to 0.0 in labels with no predicted samples. Use `zero_division` parameter to control this behavior.\n",
      "  _warn_prf(average, modifier, msg_start, len(result))\n"
     ]
    },
    {
     "name": "stdout",
     "output_type": "stream",
     "text": [
      "----------For attribute Attractive Man----------\n",
      "              precision    recall  f1-score   support\n",
      "\n",
      "          -1       0.69      0.95      0.80      2602\n",
      "           1       0.58      0.14      0.23      1303\n",
      "\n",
      "    accuracy                           0.68      3905\n",
      "   macro avg       0.63      0.54      0.51      3905\n",
      "weighted avg       0.65      0.68      0.61      3905\n",
      "\n",
      "----------For attribute Attractive Woman----------\n",
      "              precision    recall  f1-score   support\n",
      "\n",
      "          -1       0.86      0.98      0.92      3298\n",
      "           1       0.56      0.11      0.19       607\n",
      "\n",
      "    accuracy                           0.85      3905\n",
      "   macro avg       0.71      0.55      0.55      3905\n",
      "weighted avg       0.81      0.85      0.80      3905\n",
      "\n",
      "----------For attribute Indian----------\n",
      "              precision    recall  f1-score   support\n",
      "\n",
      "          -1       0.98      1.00      0.99      3811\n",
      "           1       0.00      0.00      0.00        94\n",
      "\n",
      "    accuracy                           0.98      3905\n",
      "   macro avg       0.49      0.50      0.49      3905\n",
      "weighted avg       0.95      0.98      0.96      3905\n",
      "\n"
     ]
    },
    {
     "name": "stderr",
     "output_type": "stream",
     "text": [
      "/home2/dhawals1939/miniconda3/lib/python3.8/site-packages/sklearn/metrics/_classification.py:1245: UndefinedMetricWarning: Precision and F-score are ill-defined and being set to 0.0 in labels with no predicted samples. Use `zero_division` parameter to control this behavior.\n",
      "  _warn_prf(average, modifier, msg_start, len(result))\n",
      "/home2/dhawals1939/miniconda3/lib/python3.8/site-packages/sklearn/metrics/_classification.py:1245: UndefinedMetricWarning: Precision and F-score are ill-defined and being set to 0.0 in labels with no predicted samples. Use `zero_division` parameter to control this behavior.\n",
      "  _warn_prf(average, modifier, msg_start, len(result))\n",
      "/home2/dhawals1939/miniconda3/lib/python3.8/site-packages/sklearn/metrics/_classification.py:1245: UndefinedMetricWarning: Precision and F-score are ill-defined and being set to 0.0 in labels with no predicted samples. Use `zero_division` parameter to control this behavior.\n",
      "  _warn_prf(average, modifier, msg_start, len(result))\n"
     ]
    },
    {
     "name": "stdout",
     "output_type": "stream",
     "text": [
      "----------For attribute Bags Under Eyes----------\n",
      "              precision    recall  f1-score   support\n",
      "\n",
      "          -1       0.69      0.55      0.61      1583\n",
      "           1       0.73      0.83      0.78      2322\n",
      "\n",
      "    accuracy                           0.71      3905\n",
      "   macro avg       0.71      0.69      0.69      3905\n",
      "weighted avg       0.71      0.71      0.71      3905\n",
      "\n",
      "----------For attribute High Cheekbones----------\n",
      "              precision    recall  f1-score   support\n",
      "\n",
      "          -1       0.78      0.87      0.82      2575\n",
      "           1       0.68      0.52      0.59      1330\n",
      "\n",
      "    accuracy                           0.75      3905\n",
      "   macro avg       0.73      0.70      0.71      3905\n",
      "weighted avg       0.74      0.75      0.74      3905\n",
      "\n",
      "----------For attribute Brown Eyes----------\n",
      "              precision    recall  f1-score   support\n",
      "\n",
      "          -1       0.61      0.09      0.15      1340\n",
      "           1       0.67      0.97      0.79      2565\n",
      "\n",
      "    accuracy                           0.67      3905\n",
      "   macro avg       0.64      0.53      0.47      3905\n",
      "weighted avg       0.65      0.67      0.57      3905\n",
      "\n"
     ]
    }
   ],
   "source": [
    "test_SVMs()"
   ]
  },
  {
   "cell_type": "code",
   "execution_count": null,
   "metadata": {},
   "outputs": [],
   "source": []
  }
 ],
 "metadata": {
  "colab": {
   "authorship_tag": "ABX9TyMwUQyPkwOxTyO9SC0KP9pY",
   "collapsed_sections": [],
   "name": "AttributeClassifierLFW.ipynb",
   "provenance": []
  },
  "kernelspec": {
   "display_name": "Python 3",
   "language": "python",
   "name": "python3"
  },
  "language_info": {
   "codemirror_mode": {
    "name": "ipython",
    "version": 3
   },
   "file_extension": ".py",
   "mimetype": "text/x-python",
   "name": "python",
   "nbconvert_exporter": "python",
   "pygments_lexer": "ipython3",
   "version": "3.8.5"
  }
 },
 "nbformat": 4,
 "nbformat_minor": 1
}