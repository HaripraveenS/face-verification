{
 "cells": [
  {
   "cell_type": "markdown",
   "metadata": {
    "id": "VGnqrLKiwB4_"
   },
   "source": [
    "# Import Libraries"
   ]
  },
  {
   "cell_type": "code",
   "execution_count": 1,
   "metadata": {
    "id": "-5Xomw1pwMQZ"
   },
   "outputs": [],
   "source": [
    "from utilities import *"
   ]
  },
  {
   "cell_type": "markdown",
   "metadata": {},
   "source": [
    "# Initializations"
   ]
  },
  {
   "cell_type": "code",
   "execution_count": 2,
   "metadata": {},
   "outputs": [],
   "source": [
    "initialize_celeba()"
   ]
  },
  {
   "cell_type": "markdown",
   "metadata": {},
   "source": [
    "# Train"
   ]
  },
  {
   "cell_type": "code",
   "execution_count": 3,
   "metadata": {},
   "outputs": [
    {
     "name": "stderr",
     "output_type": "stream",
     "text": [
      "100%|██████████| 19/19 [7:10:15<00:00, 1358.73s/it]  \n"
     ]
    }
   ],
   "source": [
    "learn_SVMs()"
   ]
  },
  {
   "cell_type": "markdown",
   "metadata": {},
   "source": [
    "# Test"
   ]
  },
  {
   "cell_type": "code",
   "execution_count": 4,
   "metadata": {},
   "outputs": [
    {
     "name": "stdout",
     "output_type": "stream",
     "text": [
      "----------For attribute Arched_Eyebrows----------\n",
      "              precision    recall  f1-score   support\n",
      "\n",
      "          -1       0.81      0.91      0.86      4250\n",
      "           1       0.63      0.42      0.51      1586\n",
      "\n",
      "    accuracy                           0.78      5836\n",
      "   macro avg       0.72      0.67      0.68      5836\n",
      "weighted avg       0.76      0.78      0.76      5836\n",
      "\n",
      "----------For attribute Attractive----------\n",
      "              precision    recall  f1-score   support\n",
      "\n",
      "          -1       0.69      0.60      0.64      2806\n",
      "           1       0.67      0.75      0.70      3030\n",
      "\n",
      "    accuracy                           0.67      5836\n",
      "   macro avg       0.68      0.67      0.67      5836\n",
      "weighted avg       0.68      0.67      0.67      5836\n",
      "\n",
      "----------For attribute Bags_Under_Eyes----------\n",
      "              precision    recall  f1-score   support\n",
      "\n",
      "          -1       0.79      1.00      0.88      4615\n",
      "           1       0.00      0.00      0.00      1221\n",
      "\n",
      "    accuracy                           0.79      5836\n",
      "   macro avg       0.40      0.50      0.44      5836\n",
      "weighted avg       0.63      0.79      0.70      5836\n",
      "\n"
     ]
    },
    {
     "name": "stderr",
     "output_type": "stream",
     "text": [
      "/home2/dhawals1939/miniconda3/lib/python3.8/site-packages/sklearn/metrics/_classification.py:1245: UndefinedMetricWarning: Precision and F-score are ill-defined and being set to 0.0 in labels with no predicted samples. Use `zero_division` parameter to control this behavior.\n",
      "  _warn_prf(average, modifier, msg_start, len(result))\n",
      "/home2/dhawals1939/miniconda3/lib/python3.8/site-packages/sklearn/metrics/_classification.py:1245: UndefinedMetricWarning: Precision and F-score are ill-defined and being set to 0.0 in labels with no predicted samples. Use `zero_division` parameter to control this behavior.\n",
      "  _warn_prf(average, modifier, msg_start, len(result))\n",
      "/home2/dhawals1939/miniconda3/lib/python3.8/site-packages/sklearn/metrics/_classification.py:1245: UndefinedMetricWarning: Precision and F-score are ill-defined and being set to 0.0 in labels with no predicted samples. Use `zero_division` parameter to control this behavior.\n",
      "  _warn_prf(average, modifier, msg_start, len(result))\n"
     ]
    },
    {
     "name": "stdout",
     "output_type": "stream",
     "text": [
      "----------For attribute Bald----------\n",
      "              precision    recall  f1-score   support\n",
      "\n",
      "          -1       0.98      1.00      0.99      5720\n",
      "           1       0.41      0.16      0.23       116\n",
      "\n",
      "    accuracy                           0.98      5836\n",
      "   macro avg       0.70      0.58      0.61      5836\n",
      "weighted avg       0.97      0.98      0.97      5836\n",
      "\n",
      "----------For attribute Black_Hair----------\n",
      "              precision    recall  f1-score   support\n",
      "\n",
      "          -1       0.84      0.94      0.89      4424\n",
      "           1       0.70      0.46      0.55      1412\n",
      "\n",
      "    accuracy                           0.82      5836\n",
      "   macro avg       0.77      0.70      0.72      5836\n",
      "weighted avg       0.81      0.82      0.81      5836\n",
      "\n",
      "----------For attribute Blond_Hair----------\n",
      "              precision    recall  f1-score   support\n",
      "\n",
      "          -1       0.91      0.96      0.93      4965\n",
      "           1       0.68      0.43      0.53       871\n",
      "\n",
      "    accuracy                           0.89      5836\n",
      "   macro avg       0.79      0.70      0.73      5836\n",
      "weighted avg       0.87      0.89      0.87      5836\n",
      "\n",
      "----------For attribute Brown_Hair----------\n",
      "              precision    recall  f1-score   support\n",
      "\n",
      "          -1       0.82      0.96      0.88      4601\n",
      "           1       0.54      0.19      0.29      1235\n",
      "\n",
      "    accuracy                           0.79      5836\n",
      "   macro avg       0.68      0.57      0.58      5836\n",
      "weighted avg       0.76      0.79      0.75      5836\n",
      "\n",
      "----------For attribute Bushy_Eyebrows----------\n",
      "              precision    recall  f1-score   support\n",
      "\n",
      "          -1       0.86      1.00      0.92      4990\n",
      "           1       0.00      0.00      0.00       846\n",
      "\n",
      "    accuracy                           0.86      5836\n",
      "   macro avg       0.43      0.50      0.46      5836\n",
      "weighted avg       0.73      0.86      0.79      5836\n",
      "\n"
     ]
    },
    {
     "name": "stderr",
     "output_type": "stream",
     "text": [
      "/home2/dhawals1939/miniconda3/lib/python3.8/site-packages/sklearn/metrics/_classification.py:1245: UndefinedMetricWarning: Precision and F-score are ill-defined and being set to 0.0 in labels with no predicted samples. Use `zero_division` parameter to control this behavior.\n",
      "  _warn_prf(average, modifier, msg_start, len(result))\n",
      "/home2/dhawals1939/miniconda3/lib/python3.8/site-packages/sklearn/metrics/_classification.py:1245: UndefinedMetricWarning: Precision and F-score are ill-defined and being set to 0.0 in labels with no predicted samples. Use `zero_division` parameter to control this behavior.\n",
      "  _warn_prf(average, modifier, msg_start, len(result))\n",
      "/home2/dhawals1939/miniconda3/lib/python3.8/site-packages/sklearn/metrics/_classification.py:1245: UndefinedMetricWarning: Precision and F-score are ill-defined and being set to 0.0 in labels with no predicted samples. Use `zero_division` parameter to control this behavior.\n",
      "  _warn_prf(average, modifier, msg_start, len(result))\n"
     ]
    },
    {
     "name": "stdout",
     "output_type": "stream",
     "text": [
      "----------For attribute Chubby----------\n",
      "              precision    recall  f1-score   support\n",
      "\n",
      "          -1       0.94      1.00      0.97      5508\n",
      "           1       0.00      0.00      0.00       328\n",
      "\n",
      "    accuracy                           0.94      5836\n",
      "   macro avg       0.47      0.50      0.49      5836\n",
      "weighted avg       0.89      0.94      0.92      5836\n",
      "\n"
     ]
    },
    {
     "name": "stderr",
     "output_type": "stream",
     "text": [
      "/home2/dhawals1939/miniconda3/lib/python3.8/site-packages/sklearn/metrics/_classification.py:1245: UndefinedMetricWarning: Precision and F-score are ill-defined and being set to 0.0 in labels with no predicted samples. Use `zero_division` parameter to control this behavior.\n",
      "  _warn_prf(average, modifier, msg_start, len(result))\n",
      "/home2/dhawals1939/miniconda3/lib/python3.8/site-packages/sklearn/metrics/_classification.py:1245: UndefinedMetricWarning: Precision and F-score are ill-defined and being set to 0.0 in labels with no predicted samples. Use `zero_division` parameter to control this behavior.\n",
      "  _warn_prf(average, modifier, msg_start, len(result))\n",
      "/home2/dhawals1939/miniconda3/lib/python3.8/site-packages/sklearn/metrics/_classification.py:1245: UndefinedMetricWarning: Precision and F-score are ill-defined and being set to 0.0 in labels with no predicted samples. Use `zero_division` parameter to control this behavior.\n",
      "  _warn_prf(average, modifier, msg_start, len(result))\n"
     ]
    },
    {
     "name": "stdout",
     "output_type": "stream",
     "text": [
      "----------For attribute Gray_Hair----------\n",
      "              precision    recall  f1-score   support\n",
      "\n",
      "          -1       0.96      1.00      0.98      5591\n",
      "           1       0.00      0.00      0.00       245\n",
      "\n",
      "    accuracy                           0.96      5836\n",
      "   macro avg       0.48      0.50      0.49      5836\n",
      "weighted avg       0.92      0.96      0.94      5836\n",
      "\n"
     ]
    },
    {
     "name": "stderr",
     "output_type": "stream",
     "text": [
      "/home2/dhawals1939/miniconda3/lib/python3.8/site-packages/sklearn/metrics/_classification.py:1245: UndefinedMetricWarning: Precision and F-score are ill-defined and being set to 0.0 in labels with no predicted samples. Use `zero_division` parameter to control this behavior.\n",
      "  _warn_prf(average, modifier, msg_start, len(result))\n",
      "/home2/dhawals1939/miniconda3/lib/python3.8/site-packages/sklearn/metrics/_classification.py:1245: UndefinedMetricWarning: Precision and F-score are ill-defined and being set to 0.0 in labels with no predicted samples. Use `zero_division` parameter to control this behavior.\n",
      "  _warn_prf(average, modifier, msg_start, len(result))\n",
      "/home2/dhawals1939/miniconda3/lib/python3.8/site-packages/sklearn/metrics/_classification.py:1245: UndefinedMetricWarning: Precision and F-score are ill-defined and being set to 0.0 in labels with no predicted samples. Use `zero_division` parameter to control this behavior.\n",
      "  _warn_prf(average, modifier, msg_start, len(result))\n"
     ]
    },
    {
     "name": "stdout",
     "output_type": "stream",
     "text": [
      "----------For attribute High_Cheekbones----------\n",
      "              precision    recall  f1-score   support\n",
      "\n",
      "          -1       0.71      0.73      0.72      3142\n",
      "           1       0.68      0.66      0.67      2694\n",
      "\n",
      "    accuracy                           0.70      5836\n",
      "   macro avg       0.69      0.69      0.69      5836\n",
      "weighted avg       0.70      0.70      0.70      5836\n",
      "\n",
      "----------For attribute Male----------\n",
      "              precision    recall  f1-score   support\n",
      "\n",
      "          -1       0.78      0.81      0.80      3432\n",
      "           1       0.71      0.68      0.69      2404\n",
      "\n",
      "    accuracy                           0.76      5836\n",
      "   macro avg       0.75      0.74      0.75      5836\n",
      "weighted avg       0.75      0.76      0.75      5836\n",
      "\n",
      "----------For attribute Oval_Face----------\n",
      "              precision    recall  f1-score   support\n",
      "\n",
      "          -1       0.73      1.00      0.84      4246\n",
      "           1       0.00      0.00      0.00      1590\n",
      "\n",
      "    accuracy                           0.73      5836\n",
      "   macro avg       0.36      0.50      0.42      5836\n",
      "weighted avg       0.53      0.73      0.61      5836\n",
      "\n"
     ]
    },
    {
     "name": "stderr",
     "output_type": "stream",
     "text": [
      "/home2/dhawals1939/miniconda3/lib/python3.8/site-packages/sklearn/metrics/_classification.py:1245: UndefinedMetricWarning: Precision and F-score are ill-defined and being set to 0.0 in labels with no predicted samples. Use `zero_division` parameter to control this behavior.\n",
      "  _warn_prf(average, modifier, msg_start, len(result))\n",
      "/home2/dhawals1939/miniconda3/lib/python3.8/site-packages/sklearn/metrics/_classification.py:1245: UndefinedMetricWarning: Precision and F-score are ill-defined and being set to 0.0 in labels with no predicted samples. Use `zero_division` parameter to control this behavior.\n",
      "  _warn_prf(average, modifier, msg_start, len(result))\n",
      "/home2/dhawals1939/miniconda3/lib/python3.8/site-packages/sklearn/metrics/_classification.py:1245: UndefinedMetricWarning: Precision and F-score are ill-defined and being set to 0.0 in labels with no predicted samples. Use `zero_division` parameter to control this behavior.\n",
      "  _warn_prf(average, modifier, msg_start, len(result))\n"
     ]
    },
    {
     "name": "stdout",
     "output_type": "stream",
     "text": [
      "----------For attribute Pale_Skin----------\n",
      "              precision    recall  f1-score   support\n",
      "\n",
      "          -1       0.96      1.00      0.98      5578\n",
      "           1       0.00      0.00      0.00       258\n",
      "\n",
      "    accuracy                           0.96      5836\n",
      "   macro avg       0.48      0.50      0.49      5836\n",
      "weighted avg       0.91      0.96      0.93      5836\n",
      "\n"
     ]
    },
    {
     "name": "stderr",
     "output_type": "stream",
     "text": [
      "/home2/dhawals1939/miniconda3/lib/python3.8/site-packages/sklearn/metrics/_classification.py:1245: UndefinedMetricWarning: Precision and F-score are ill-defined and being set to 0.0 in labels with no predicted samples. Use `zero_division` parameter to control this behavior.\n",
      "  _warn_prf(average, modifier, msg_start, len(result))\n",
      "/home2/dhawals1939/miniconda3/lib/python3.8/site-packages/sklearn/metrics/_classification.py:1245: UndefinedMetricWarning: Precision and F-score are ill-defined and being set to 0.0 in labels with no predicted samples. Use `zero_division` parameter to control this behavior.\n",
      "  _warn_prf(average, modifier, msg_start, len(result))\n",
      "/home2/dhawals1939/miniconda3/lib/python3.8/site-packages/sklearn/metrics/_classification.py:1245: UndefinedMetricWarning: Precision and F-score are ill-defined and being set to 0.0 in labels with no predicted samples. Use `zero_division` parameter to control this behavior.\n",
      "  _warn_prf(average, modifier, msg_start, len(result))\n"
     ]
    },
    {
     "name": "stdout",
     "output_type": "stream",
     "text": [
      "----------For attribute Pointy_Nose----------\n",
      "              precision    recall  f1-score   support\n",
      "\n",
      "          -1       0.72      0.99      0.84      4195\n",
      "           1       0.54      0.03      0.06      1641\n",
      "\n",
      "    accuracy                           0.72      5836\n",
      "   macro avg       0.63      0.51      0.45      5836\n",
      "weighted avg       0.67      0.72      0.62      5836\n",
      "\n",
      "----------For attribute Receding_Hairline----------\n",
      "              precision    recall  f1-score   support\n",
      "\n",
      "          -1       0.92      1.00      0.96      5386\n",
      "           1       0.00      0.00      0.00       450\n",
      "\n",
      "    accuracy                           0.92      5836\n",
      "   macro avg       0.46      0.50      0.48      5836\n",
      "weighted avg       0.85      0.92      0.89      5836\n",
      "\n"
     ]
    },
    {
     "name": "stderr",
     "output_type": "stream",
     "text": [
      "/home2/dhawals1939/miniconda3/lib/python3.8/site-packages/sklearn/metrics/_classification.py:1245: UndefinedMetricWarning: Precision and F-score are ill-defined and being set to 0.0 in labels with no predicted samples. Use `zero_division` parameter to control this behavior.\n",
      "  _warn_prf(average, modifier, msg_start, len(result))\n",
      "/home2/dhawals1939/miniconda3/lib/python3.8/site-packages/sklearn/metrics/_classification.py:1245: UndefinedMetricWarning: Precision and F-score are ill-defined and being set to 0.0 in labels with no predicted samples. Use `zero_division` parameter to control this behavior.\n",
      "  _warn_prf(average, modifier, msg_start, len(result))\n",
      "/home2/dhawals1939/miniconda3/lib/python3.8/site-packages/sklearn/metrics/_classification.py:1245: UndefinedMetricWarning: Precision and F-score are ill-defined and being set to 0.0 in labels with no predicted samples. Use `zero_division` parameter to control this behavior.\n",
      "  _warn_prf(average, modifier, msg_start, len(result))\n"
     ]
    },
    {
     "name": "stdout",
     "output_type": "stream",
     "text": [
      "----------For attribute Straight_Hair----------\n",
      "              precision    recall  f1-score   support\n",
      "\n",
      "          -1       0.79      1.00      0.88      4595\n",
      "           1       0.00      0.00      0.00      1241\n",
      "\n",
      "    accuracy                           0.79      5836\n",
      "   macro avg       0.39      0.50      0.44      5836\n",
      "weighted avg       0.62      0.79      0.69      5836\n",
      "\n"
     ]
    },
    {
     "name": "stderr",
     "output_type": "stream",
     "text": [
      "/home2/dhawals1939/miniconda3/lib/python3.8/site-packages/sklearn/metrics/_classification.py:1245: UndefinedMetricWarning: Precision and F-score are ill-defined and being set to 0.0 in labels with no predicted samples. Use `zero_division` parameter to control this behavior.\n",
      "  _warn_prf(average, modifier, msg_start, len(result))\n",
      "/home2/dhawals1939/miniconda3/lib/python3.8/site-packages/sklearn/metrics/_classification.py:1245: UndefinedMetricWarning: Precision and F-score are ill-defined and being set to 0.0 in labels with no predicted samples. Use `zero_division` parameter to control this behavior.\n",
      "  _warn_prf(average, modifier, msg_start, len(result))\n",
      "/home2/dhawals1939/miniconda3/lib/python3.8/site-packages/sklearn/metrics/_classification.py:1245: UndefinedMetricWarning: Precision and F-score are ill-defined and being set to 0.0 in labels with no predicted samples. Use `zero_division` parameter to control this behavior.\n",
      "  _warn_prf(average, modifier, msg_start, len(result))\n"
     ]
    },
    {
     "name": "stdout",
     "output_type": "stream",
     "text": [
      "----------For attribute Wavy_Hair----------\n",
      "              precision    recall  f1-score   support\n",
      "\n",
      "          -1       0.70      0.96      0.81      3992\n",
      "           1       0.57      0.10      0.17      1844\n",
      "\n",
      "    accuracy                           0.69      5836\n",
      "   macro avg       0.64      0.53      0.49      5836\n",
      "weighted avg       0.66      0.69      0.61      5836\n",
      "\n",
      "----------For attribute Young----------\n",
      "              precision    recall  f1-score   support\n",
      "\n",
      "          -1       0.54      0.11      0.19      1265\n",
      "           1       0.80      0.97      0.88      4571\n",
      "\n",
      "    accuracy                           0.79      5836\n",
      "   macro avg       0.67      0.54      0.53      5836\n",
      "weighted avg       0.74      0.79      0.73      5836\n",
      "\n"
     ]
    }
   ],
   "source": [
    "test_SVMs()"
   ]
  },
  {
   "cell_type": "code",
   "execution_count": null,
   "metadata": {},
   "outputs": [],
   "source": []
  }
 ],
 "metadata": {
  "colab": {
   "authorship_tag": "ABX9TyMwUQyPkwOxTyO9SC0KP9pY",
   "collapsed_sections": [],
   "name": "AttributeClassifierLFW.ipynb",
   "provenance": []
  },
  "kernelspec": {
   "display_name": "Python 3",
   "language": "python",
   "name": "python3"
  },
  "language_info": {
   "codemirror_mode": {
    "name": "ipython",
    "version": 3
   },
   "file_extension": ".py",
   "mimetype": "text/x-python",
   "name": "python",
   "nbconvert_exporter": "python",
   "pygments_lexer": "ipython3",
   "version": "3.8.5"
  }
 },
 "nbformat": 4,
 "nbformat_minor": 1
}
