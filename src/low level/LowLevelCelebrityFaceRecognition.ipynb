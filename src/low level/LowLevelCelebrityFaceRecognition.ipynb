{
 "cells": [
  {
   "cell_type": "markdown",
   "metadata": {
    "id": "Po4ZUf5yXXBt"
   },
   "source": [
    "# Import Libraries"
   ]
  },
  {
   "cell_type": "code",
   "execution_count": 1,
   "metadata": {
    "executionInfo": {
     "elapsed": 27533,
     "status": "ok",
     "timestamp": 1617775659984,
     "user": {
      "displayName": "sepnu paus",
      "photoUrl": "",
      "userId": "11897582063931328693"
     },
     "user_tz": -330
    },
    "id": "Mc9Qpz2YXXB0"
   },
   "outputs": [],
   "source": [
    "from utilities import *\n",
    "import cv2\n",
    "import numpy as np\n",
    "import matplotlib.pyplot as plt\n",
    "from glob import glob\n",
    "from tqdm import tqdm\n",
    "import pandas as pd"
   ]
  },
  {
   "cell_type": "markdown",
   "metadata": {
    "id": "WKkdtSFgXXB1"
   },
   "source": [
    "# Initializations"
   ]
  },
  {
   "cell_type": "code",
   "execution_count": 2,
   "metadata": {
    "executionInfo": {
     "elapsed": 27534,
     "status": "ok",
     "timestamp": 1617775659990,
     "user": {
      "displayName": "sepnu paus",
      "photoUrl": "",
      "userId": "11897582063931328693"
     },
     "user_tz": -330
    },
    "id": "nMlasld7XXB1"
   },
   "outputs": [],
   "source": [
    "# initialize_bboxes_file(file_path = '../../CelebA/metadata/list_bbox_celeba.txt')\n",
    "initialize_dlib_shape_predictor(\"../../Face Landmark Detection Pre-trained models/shape_predictor_81_face_landmarks.dat\")"
   ]
  },
  {
   "cell_type": "markdown",
   "metadata": {
    "id": "tIuHgVoKXXB2"
   },
   "source": [
    "# Low level features"
   ]
  },
  {
   "cell_type": "code",
   "execution_count": 3,
   "metadata": {
    "executionInfo": {
     "elapsed": 28054,
     "status": "ok",
     "timestamp": 1617775660516,
     "user": {
      "displayName": "sepnu paus",
      "photoUrl": "",
      "userId": "11897582063931328693"
     },
     "user_tz": -330
    },
    "id": "b4jAzBp_tK1Z"
   },
   "outputs": [],
   "source": [
    "output_file_path = \"../../data/low level/celeb_face_recog/\"\n",
    "final_features = [None] * (11*4) # Why 11? As 11 face parts are being returned. Why 4? As each face part is associated with 4 histograms.\n",
    "for i in range(len(final_features)):\n",
    "    final_features[i] = np.empty(shape = (0, HISTOGRAM_BINS))\n",
    "file_exception = open(output_file_path + \"images_under_error.txt\", \"w\")"
   ]
  },
  {
   "cell_type": "code",
   "execution_count": 4,
   "metadata": {
    "id": "iG6d7ox2XXB2",
    "tags": []
   },
   "outputs": [
    {
     "output_type": "stream",
     "name": "stderr",
     "text": [
      "100%|██████████| 215/215 [02:40<00:00,  1.34it/s]\n",
      "100%|██████████| 86/86 [01:04<00:00,  1.33it/s]\n",
      "100%|██████████| 214/214 [02:33<00:00,  1.39it/s]\n",
      "100%|██████████| 221/221 [02:56<00:00,  1.25it/s]\n",
      "100%|██████████| 212/212 [03:17<00:00,  1.07it/s]\n",
      "100%|██████████| 186/186 [02:36<00:00,  1.19it/s]\n",
      "100%|██████████| 225/225 [02:41<00:00,  1.40it/s]\n",
      "100%|██████████| 196/196 [02:24<00:00,  1.36it/s]\n",
      "100%|██████████| 221/221 [03:04<00:00,  1.20it/s]\n",
      "100%|██████████| 207/207 [02:21<00:00,  1.46it/s]\n",
      "100%|██████████| 179/179 [02:15<00:00,  1.32it/s]\n",
      "100%|██████████| 177/177 [02:07<00:00,  1.39it/s]\n",
      "100%|██████████| 205/205 [02:38<00:00,  1.29it/s]\n",
      "100%|██████████| 197/197 [02:26<00:00,  1.35it/s]\n",
      "100%|██████████| 196/196 [02:57<00:00,  1.11it/s]\n",
      "100%|██████████| 211/211 [03:07<00:00,  1.13it/s]\n",
      "100%|██████████| 204/204 [02:34<00:00,  1.32it/s]\n",
      "100%|██████████| 209/209 [02:42<00:00,  1.29it/s]\n",
      "100%|██████████| 209/209 [03:21<00:00,  1.04it/s]\n",
      "100%|██████████| 192/192 [02:43<00:00,  1.18it/s]\n",
      "100%|██████████| 216/216 [02:55<00:00,  1.23it/s]\n",
      "100%|██████████| 189/189 [03:15<00:00,  1.04s/it]\n",
      "100%|██████████| 220/220 [04:08<00:00,  1.13s/it]\n",
      "100%|██████████| 200/200 [04:47<00:00,  1.44s/it]\n",
      "100%|██████████| 180/180 [03:12<00:00,  1.07s/it]\n",
      "100%|██████████| 212/212 [04:05<00:00,  1.16s/it]\n",
      "100%|██████████| 225/225 [04:09<00:00,  1.11s/it]\n",
      "100%|██████████| 206/206 [04:28<00:00,  1.30s/it]\n",
      "100%|██████████| 180/180 [05:28<00:00,  1.82s/it]\n",
      "100%|██████████| 199/199 [07:21<00:00,  2.22s/it]\n",
      "100%|██████████| 205/205 [08:19<00:00,  2.44s/it]\n",
      "100%|██████████| 194/194 [04:51<00:00,  1.50s/it]\n",
      "100%|██████████| 205/205 [04:07<00:00,  1.21s/it]\n",
      "100%|██████████| 224/224 [05:02<00:00,  1.35s/it]\n",
      "100%|██████████| 213/213 [04:46<00:00,  1.35s/it]\n",
      "100%|██████████| 210/210 [04:02<00:00,  1.16s/it]\n",
      "100%|██████████| 208/208 [03:20<00:00,  1.04it/s]\n",
      "Completed\n",
      "\n"
     ]
    }
   ],
   "source": [
    "for folder_path in sorted(glob(\"../../../CelebrityFaceRecognition/images/*/\")):\n",
    "    for file_path in tqdm(sorted(glob(folder_path + \"*.jpg\"))):\n",
    "        try:\n",
    "            # Face extraction\n",
    "            img_face_extracted = face_extraction_lfw(cv2.cvtColor(cv2.imread(file_path), cv2.COLOR_BGR2RGB))\n",
    "            # Face alignment\n",
    "            img_face_aligned, shape = face_alignment_dlib(img_face_extracted, display_intermediate_results = False)\n",
    "            \n",
    "            ## Uncomment below to see the aligned eyes\n",
    "            # img_face_aligned_copy = img_face_aligned.copy()\n",
    "            # for j in range(len(shape)):\n",
    "            #     cv2.circle(img_face_aligned_copy, tuple(shape[j]), 2, (255, 0, 0), -1)\n",
    "            # left_eye_center, right_eye_center = get_center_eyes_dlib(shape)\n",
    "            # cv2.line(img_face_aligned_copy, tuple(left_eye_center), tuple(right_eye_center), (0, 0, 255), 1)\n",
    "            # cv2.circle(img_face_aligned_copy, tuple(left_eye_center), 2, (0, 255, 0), -1)\n",
    "            # cv2.circle(img_face_aligned_copy, tuple(right_eye_center), 2, (0, 255, 0), -1)\n",
    "            # plt.imshow(img_face_aligned_copy)\n",
    "            # plt.axis('off')\n",
    "            # plt.show()\n",
    "\n",
    "            # Low level features extraction\n",
    "            ''' features = \n",
    "            rgb_left_eye, hsv_left_eye, grad_mag_left_eye, grad_orien_left_eye, \\\n",
    "            rgb_right_eye, hsv_right_eye, grad_mag_right_eye, grad_orien_right_eye, \\\n",
    "            rgb_nose, hsv_nose, grad_mag_nose, grad_orien_nose, \\\n",
    "            rgb_mouth, hsv_mouth, grad_mag_mouth, grad_orien_mouth, \\\n",
    "            rgb_chin, hsv_chin, grad_mag_chin, grad_orien_chin, \\\n",
    "            rgb_moustache, hsv_moustache, grad_mag_moustache, grad_orien_moustache, \\\n",
    "            rgb_left_cheek, hsv_left_cheek, grad_mag_left_cheek, grad_orien_left_cheek, \\\n",
    "            rgb_right_cheek, hsv_right_cheek, grad_mag_right_cheek, grad_orien_right_cheek, \\\n",
    "            rgb_forehead, hsv_forehead, grad_mag_forehead, grad_orien_forehead, \\\n",
    "            rgb_full_face, hsv_full_face, grad_mag_full_face, grad_orien_full_face, \\\n",
    "            rgb_hair, hsv_hair, grad_mag_hair, grad_orien_hair\n",
    "            '''\n",
    "            features = extract_low_level_features_research_paper(img_face_aligned, shape, display_intermediate_results = False)\n",
    "            for i in range(len(features)):\n",
    "                final_features[i] = np.append(final_features[i], features[i].reshape(1, HISTOGRAM_BINS), axis = 0)\n",
    "        except Exception as e:\n",
    "            file_exception.write(file_path + \" \" + str(e) + \"\\n\")\n",
    "print(\"\\nCompleted\")"
   ]
  },
  {
   "cell_type": "markdown",
   "metadata": {
    "id": "HmaOv5w5X1GO"
   },
   "source": [
    "# Save histogram data as .npy"
   ]
  },
  {
   "cell_type": "code",
   "execution_count": 5,
   "metadata": {
    "id": "Slik1lSCtPNs"
   },
   "outputs": [],
   "source": [
    "features_title = ['rgb_left_eye', 'hsv_left_eye', 'grad_mag_left_eye', 'grad_orien_left_eye', \\\n",
    "            'rgb_right_eye', 'hsv_right_eye', 'grad_mag_right_eye', 'grad_orien_right_eye', \\\n",
    "            'rgb_nose', 'hsv_nose', 'grad_mag_nose', 'grad_orien_nose', \\\n",
    "            'rgb_mouth', 'hsv_mouth', 'grad_mag_mouth', 'grad_orien_mouth', \\\n",
    "            'rgb_chin', 'hsv_chin', 'grad_mag_chin', 'grad_orien_chin', \\\n",
    "            'rgb_moustache', 'hsv_moustache', 'grad_mag_moustache', 'grad_orien_moustache', \\\n",
    "            'rgb_left_cheek', 'hsv_left_cheek', 'grad_mag_left_cheek', 'grad_orien_left_cheek', \\\n",
    "            'rgb_right_cheek', 'hsv_right_cheek', 'grad_mag_right_cheek', 'grad_orien_right_cheek', \\\n",
    "            'rgb_forehead', 'hsv_forehead', 'grad_mag_forehead', 'grad_orien_forehead', \\\n",
    "            'rgb_full_face', 'hsv_full_face', 'grad_mag_full_face', 'grad_orien_full_face', \\\n",
    "            'rgb_hair', 'hsv_hair', 'grad_mag_hair', 'grad_orien_hair']\n",
    "for i in range(len(features_title)):\n",
    "    np.save(output_file_path + features_title[i], final_features[i])"
   ]
  },
  {
   "cell_type": "markdown",
   "metadata": {
    "id": "VO5O73WtXXB3"
   },
   "source": [
    "# Clear resources"
   ]
  },
  {
   "cell_type": "code",
   "execution_count": 6,
   "metadata": {
    "id": "LAD_jq1bXXB6"
   },
   "outputs": [],
   "source": [
    "# close_bboxes_file()\n",
    "file_exception.close()"
   ]
  },
  {
   "source": [
    "# Delete files under error"
   ],
   "cell_type": "markdown",
   "metadata": {}
  },
  {
   "cell_type": "code",
   "execution_count": 7,
   "metadata": {
    "tags": []
   },
   "outputs": [],
   "source": [
    "import os\n",
    "file_exception = open(output_file_path + \"images_under_error.txt\", \"r\")\n",
    "while True:\n",
    "    line = file_exception.readline()\n",
    "    if line == \"\": break\n",
    "    if line != \"\\n\":\n",
    "        os.remove(line.split()[0])\n",
    "file_exception.close()"
   ]
  },
  {
   "cell_type": "code",
   "execution_count": null,
   "metadata": {},
   "outputs": [],
   "source": []
  }
 ],
 "metadata": {
  "colab": {
   "collapsed_sections": [],
   "name": "LowLevelLFW.ipynb",
   "provenance": []
  },
  "kernelspec": {
   "name": "python385jvsc74a57bd0d8444844a564d5f7966954b32229d18f1d875f0f75a6a38ef4ed637ba8d6d479",
   "display_name": "Python 3.8.5 64-bit ('base': conda)"
  },
  "language_info": {
   "codemirror_mode": {
    "name": "ipython",
    "version": 3
   },
   "file_extension": ".py",
   "mimetype": "text/x-python",
   "name": "python",
   "nbconvert_exporter": "python",
   "pygments_lexer": "ipython3",
   "version": "3.8.5"
  }
 },
 "nbformat": 4,
 "nbformat_minor": 1
}