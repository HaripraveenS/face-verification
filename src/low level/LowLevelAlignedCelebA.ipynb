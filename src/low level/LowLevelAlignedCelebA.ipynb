{
 "cells": [
  {
   "cell_type": "markdown",
   "metadata": {},
   "source": [
    "Note: The original CelebA dataset is of 11 GB which we were unable to load it on Google Drive (space constraints). So, we have decided to work on Aligned CelebA dataset. "
   ]
  },
  {
   "cell_type": "markdown",
   "metadata": {
    "id": "Po4ZUf5yXXBt"
   },
   "source": [
    "# Import Libraries"
   ]
  },
  {
   "cell_type": "code",
   "execution_count": 1,
   "metadata": {
    "executionInfo": {
     "elapsed": 27533,
     "status": "ok",
     "timestamp": 1617775659984,
     "user": {
      "displayName": "sepnu paus",
      "photoUrl": "",
      "userId": "11897582063931328693"
     },
     "user_tz": -330
    },
    "id": "Mc9Qpz2YXXB0"
   },
   "outputs": [],
   "source": [
    "from utilities import *\n",
    "import cv2\n",
    "import numpy as np\n",
    "import matplotlib.pyplot as plt\n",
    "from glob import glob\n",
    "from tqdm import tqdm"
   ]
  },
  {
   "cell_type": "markdown",
   "metadata": {
    "id": "WKkdtSFgXXB1"
   },
   "source": [
    "# Initializations"
   ]
  },
  {
   "cell_type": "code",
   "execution_count": 2,
   "metadata": {
    "executionInfo": {
     "elapsed": 27534,
     "status": "ok",
     "timestamp": 1617775659990,
     "user": {
      "displayName": "sepnu paus",
      "photoUrl": "",
      "userId": "11897582063931328693"
     },
     "user_tz": -330
    },
    "id": "nMlasld7XXB1"
   },
   "outputs": [],
   "source": [
    "# initialize_bboxes_file(file_path = '../../CelebA/metadata/list_bbox_celeba.txt')\n",
    "initialize_dlib_shape_predictor(\"../../Face Landmark Detection Pre-trained models/shape_predictor_81_face_landmarks.dat\")"
   ]
  },
  {
   "cell_type": "markdown",
   "metadata": {
    "id": "tIuHgVoKXXB2"
   },
   "source": [
    "# Low level features"
   ]
  },
  {
   "cell_type": "code",
   "execution_count": 3,
   "metadata": {
    "executionInfo": {
     "elapsed": 28054,
     "status": "ok",
     "timestamp": 1617775660516,
     "user": {
      "displayName": "sepnu paus",
      "photoUrl": "",
      "userId": "11897582063931328693"
     },
     "user_tz": -330
    },
    "id": "b4jAzBp_tK1Z"
   },
   "outputs": [],
   "source": [
    "output_file_path = \"../../data/low level/celeba/\"\n",
    "final_features = [None] * (11*4) # Why 11? As 11 face parts are being returned. Why 4? As each face part is associated with 4 histograms.\n",
    "for i in range(len(final_features)):\n",
    "    final_features[i] = np.empty(shape = (0, HISTOGRAM_BINS))\n",
    "file_exception = open(output_file_path + \"images_under_error.txt\", \"w\")"
   ]
  },
  {
   "cell_type": "code",
   "execution_count": 4,
   "metadata": {
    "id": "iG6d7ox2XXB2",
    "tags": []
   },
   "outputs": [
    {
     "name": "stderr",
     "output_type": "stream",
     "text": [
      "100%|██████████| 20000/20000 [2:52:50<00:00,  1.93it/s]  "
     ]
    },
    {
     "name": "stdout",
     "output_type": "stream",
     "text": [
      "Completed\n"
     ]
    },
    {
     "name": "stderr",
     "output_type": "stream",
     "text": [
      "\n"
     ]
    }
   ],
   "source": [
    "for file_name in tqdm(sorted(glob(\"../../../CelebA/img_align_celeba/img_align_celeba/*\"))[:20000]):\n",
    "    try:\n",
    "        # Face extraction\n",
    "        # img_face_extracted = face_extraction_lfw(cv2.cvtColor(cv2.imread(file_name), cv2.COLOR_BGR2RGB))\n",
    "        # Face alignment\n",
    "        img_face_aligned = cv2.cvtColor(cv2.imread(file_name), cv2.COLOR_BGR2RGB)\n",
    "        shape = face_alignment_dlib(img_face_aligned, display_intermediate_results = False, do_not_align = True)\n",
    "\n",
    "        ## Uncomment below to see the aligned eyes\n",
    "        # img_face_aligned_copy = img_face_aligned.copy()\n",
    "        # for j in range(len(shape)):\n",
    "        #     cv2.circle(img_face_aligned_copy, tuple(shape[j]), 2, (255, 0, 0), -1)\n",
    "        # left_eye_center, right_eye_center = get_center_eyes_dlib(shape)\n",
    "        # cv2.line(img_face_aligned_copy, tuple(left_eye_center), tuple(right_eye_center), (0, 0, 255), 1)\n",
    "        # cv2.circle(img_face_aligned_copy, tuple(left_eye_center), 2, (0, 255, 0), -1)\n",
    "        # cv2.circle(img_face_aligned_copy, tuple(right_eye_center), 2, (0, 255, 0), -1)\n",
    "        # plt.imshow(img_face_aligned_copy)\n",
    "        # plt.axis('off')\n",
    "        # plt.show()\n",
    "\n",
    "        # Low level features extraction\n",
    "        \"\"\"\n",
    "        features = \n",
    "        rgb_left_eye, hsv_left_eye, grad_mag_left_eye, grad_orien_left_eye,\n",
    "        rgb_right_eye, hsv_right_eye, grad_mag_right_eye, grad_orien_right_eye,\n",
    "        rgb_nose, hsv_nose, grad_mag_nose, grad_orien_nose,\n",
    "        rgb_mouth, hsv_mouth, grad_mag_mouth, grad_orien_mouth,\n",
    "        rgb_chin, hsv_chin, grad_mag_chin, grad_orien_chin,\n",
    "        rgb_moustache, hsv_moustache, grad_mag_moustache, grad_orien_moustache,\n",
    "        rgb_left_cheek, hsv_left_cheek, grad_mag_left_cheek, grad_orien_left_cheek,\n",
    "        rgb_right_cheek, hsv_right_cheek, grad_mag_right_cheek, grad_orien_right_cheek,\n",
    "        rgb_forehead, hsv_forehead, grad_mag_forehead, grad_orien_forehead,\n",
    "        rgb_full_face, hsv_full_face, grad_mag_full_face, grad_orien_full_face,\n",
    "        rgb_hair, hsv_hair, grad_mag_hair, grad_orien_hair\n",
    "        \"\"\"\n",
    "        features = extract_low_level_features_research_paper(img_face_aligned, shape, display_intermediate_results = False)\n",
    "        for i in range(len(features)):\n",
    "            final_features[i] = np.append(final_features[i], features[i].reshape(1, HISTOGRAM_BINS), axis = 0)\n",
    "    except Exception as e:\n",
    "        file_exception.write(file_name + \" \" + str(e) + \"\\n\")\n",
    "print(\"Completed\")"
   ]
  },
  {
   "cell_type": "markdown",
   "metadata": {
    "id": "HmaOv5w5X1GO"
   },
   "source": [
    "# Save histogram data as .npy"
   ]
  },
  {
   "cell_type": "code",
   "execution_count": 5,
   "metadata": {
    "id": "Slik1lSCtPNs"
   },
   "outputs": [],
   "source": [
    "features_title = ['rgb_left_eye', 'hsv_left_eye', 'grad_mag_left_eye', 'grad_orien_left_eye', \\\n",
    "            'rgb_right_eye', 'hsv_right_eye', 'grad_mag_right_eye', 'grad_orien_right_eye', \\\n",
    "            'rgb_nose', 'hsv_nose', 'grad_mag_nose', 'grad_orien_nose', \\\n",
    "            'rgb_mouth', 'hsv_mouth', 'grad_mag_mouth', 'grad_orien_mouth', \\\n",
    "            'rgb_chin', 'hsv_chin', 'grad_mag_chin', 'grad_orien_chin', \\\n",
    "            'rgb_moustache', 'hsv_moustache', 'grad_mag_moustache', 'grad_orien_moustache', \\\n",
    "            'rgb_left_cheek', 'hsv_left_cheek', 'grad_mag_left_cheek', 'grad_orien_left_cheek', \\\n",
    "            'rgb_right_cheek', 'hsv_right_cheek', 'grad_mag_right_cheek', 'grad_orien_right_cheek', \\\n",
    "            'rgb_forehead', 'hsv_forehead', 'grad_mag_forehead', 'grad_orien_forehead', \\\n",
    "            'rgb_full_face', 'hsv_full_face', 'grad_mag_full_face', 'grad_orien_full_face', \\\n",
    "            'rgb_hair', 'hsv_hair', 'grad_mag_hair', 'grad_orien_hair']\n",
    "for i in range(len(features_title)):\n",
    "    np.save(output_file_path + features_title[i], final_features[i])"
   ]
  },
  {
   "cell_type": "markdown",
   "metadata": {
    "id": "VO5O73WtXXB3"
   },
   "source": [
    "# Clear resources"
   ]
  },
  {
   "cell_type": "code",
   "execution_count": 6,
   "metadata": {
    "id": "LAD_jq1bXXB6"
   },
   "outputs": [],
   "source": [
    "# close_bboxes_file()\n",
    "file_exception.close()"
   ]
  }
 ],
 "metadata": {
  "colab": {
   "collapsed_sections": [],
   "name": "LowLevelLFW.ipynb",
   "provenance": []
  },
  "kernelspec": {
   "display_name": "Python 3",
   "language": "python",
   "name": "python3"
  },
  "language_info": {
   "codemirror_mode": {
    "name": "ipython",
    "version": 3
   },
   "file_extension": ".py",
   "mimetype": "text/x-python",
   "name": "python",
   "nbconvert_exporter": "python",
   "pygments_lexer": "ipython3",
   "version": "3.8.5"
  }
 },
 "nbformat": 4,
 "nbformat_minor": 1
}
